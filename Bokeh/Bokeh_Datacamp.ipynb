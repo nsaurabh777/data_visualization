{
 "cells": [
  {
   "cell_type": "markdown",
   "metadata": {},
   "source": [
    "https://campus.datacamp.com/courses/interactive-data-visualization-with-bokeh"
   ]
  },
  {
   "cell_type": "code",
   "execution_count": 9,
   "metadata": {},
   "outputs": [],
   "source": [
    "from bokeh.io import output_file, show\n",
    "from bokeh.plotting import figure\n",
    "\n",
    "plot = figure(plot_width=400, tools='pan, wheel_zoom, box_zoom', toolbar_location=\"below\", toolbar_sticky=True, title='Trying something new')\n",
    "plot.circle([1,2,3,4,5], [8,6,5,2,3])\n",
    "output_file('circle.html')\n",
    "show(plot)"
   ]
  },
  {
   "cell_type": "markdown",
   "metadata": {},
   "source": [
    "asterick()\n",
    "circle()\n",
    "circle_cross()\n",
    "circle_x()\n",
    "cross()\n",
    "inverted_triangle()\n",
    "square()\n",
    "square_cross()\n",
    "square_x()\n",
    "triangle()\n",
    "x()"
   ]
  },
  {
   "cell_type": "code",
   "execution_count": 3,
   "metadata": {},
   "outputs": [],
   "source": [
    "plot.circle(x=10, y=[2,5,8,12], size=[10,20,30,40])\n",
    "show(plot)"
   ]
  },
  {
   "cell_type": "markdown",
   "metadata": {},
   "source": [
    "#### A simple scatter plot"
   ]
  },
  {
   "cell_type": "code",
   "execution_count": null,
   "metadata": {},
   "outputs": [],
   "source": [
    "# # Import figure from bokeh.plotting\n",
    "# from bokeh.plotting import figure\n",
    "\n",
    "# # Import output_file and show from bokeh.io\n",
    "# from bokeh.io import output_file, show\n",
    "\n",
    "# # Create the figure: p\n",
    "# p = figure(x_axis_label='fertility (children per woman)', y_axis_label='female_literacy (% population)')\n",
    "\n",
    "# # List of values to be plotted\n",
    "# fertility = []\n",
    "# female_literacy = []\n",
    "\n",
    "# # Add a circle glyph to the figure p\n",
    "# p.circle(x=fertility, y=female_literacy)\n",
    "\n",
    "# # Call the output_file() function and specify the name of the file\n",
    "# output_file('fert_lit.html')\n",
    "\n",
    "# # Display the plot\n",
    "# show(p)\n"
   ]
  },
  {
   "cell_type": "markdown",
   "metadata": {},
   "source": [
    "#### A scatter plot with different shapes"
   ]
  },
  {
   "cell_type": "code",
   "execution_count": null,
   "metadata": {},
   "outputs": [],
   "source": [
    "# # Create the figure: p\n",
    "# p = figure(x_axis_label='fertility', y_axis_label='female_literacy (% population)')\n",
    "\n",
    "# fertility_africa = []\n",
    "# female_literacy_africa = []\n",
    "# # Add a circle glyph to the figure p\n",
    "# p.circle(fertility_africa,female_literacy_africa)\n",
    "\n",
    "# fertility_latinamerica = []\n",
    "# female_literacy_latinamerica = []\n",
    "# # Add an x glyph to the figure p\n",
    "# p.x(fertility_latinamerica,female_literacy_latinamerica)\n",
    "\n",
    "# # Specify the name of the file\n",
    "# output_file('fert_lit_separate.html')\n",
    "\n",
    "# # Display the plot\n",
    "# show(p)\n"
   ]
  },
  {
   "cell_type": "markdown",
   "metadata": {},
   "source": [
    "#### Customizing your scatter plots"
   ]
  },
  {
   "cell_type": "code",
   "execution_count": null,
   "metadata": {},
   "outputs": [],
   "source": [
    "# # Create the figure: p\n",
    "# p = figure(x_axis_label='fertility (children per woman)', y_axis_label='female_literacy (% population)')\n",
    "\n",
    "# # Add a blue circle glyph to the figure p\n",
    "# p.circle(fertility_latinamerica, female_literacy_latinamerica, color='blue', size=10, alpha=0.8)\n",
    "\n",
    "# # Add a red circle glyph to the figure p\n",
    "# p.circle(fertility_africa, female_literacy_africa, color='red', size=10, alpha=0.8)\n",
    "\n",
    "# # Specify the name of the file\n",
    "# output_file('fert_lit_separate_colors.html')\n",
    "\n",
    "# # Display the plot\n",
    "# show(p)\n"
   ]
  },
  {
   "cell_type": "markdown",
   "metadata": {},
   "source": [
    "#### Lines"
   ]
  },
  {
   "cell_type": "code",
   "execution_count": 2,
   "metadata": {},
   "outputs": [],
   "source": [
    "from bokeh.io import output_file, show\n",
    "from bokeh.plotting import figure\n",
    "x=[1,2,3,4,5]\n",
    "y=[8,6,5,2,3]\n",
    "plot=figure()\n",
    "plot.line(x, y, line_width=2)\n",
    "plot.circle(x, y, fill_color='white', size=10)\n",
    "output_file('line.html')\n",
    "show(plot)"
   ]
  },
  {
   "cell_type": "code",
   "execution_count": null,
   "metadata": {},
   "outputs": [],
   "source": [
    "# # Import figure from bokeh.plotting\n",
    "# from bokeh.plotting import figure\n",
    "\n",
    "# # Create a figure with x_axis_type=\"datetime\": p\n",
    "# p = figure(x_axis_type='datetime', x_axis_label='Date', y_axis_label='US Dollars')\n",
    "\n",
    "# # Plot date along the x axis and price along the y axis\n",
    "# p.line(date, price)\n",
    "\n",
    "# # Specify the name of the output file and show the result\n",
    "# output_file('line.html')\n",
    "# show(p)\n"
   ]
  },
  {
   "cell_type": "markdown",
   "metadata": {},
   "source": [
    "#### Lines & Markers"
   ]
  },
  {
   "cell_type": "code",
   "execution_count": null,
   "metadata": {},
   "outputs": [],
   "source": [
    "# # Import figure from bokeh.plotting\n",
    "# from bokeh.plotting import figure\n",
    "\n",
    "# # Create a figure with x_axis_type='datetime': p\n",
    "# p = figure(x_axis_type='datetime', x_axis_label='Date', y_axis_label='US Dollars')\n",
    "\n",
    "# # Plot date along the x-axis and price along the y-axis\n",
    "# p.line(date, price)\n",
    "\n",
    "# # With date on the x-axis and price on the y-axis, add a white circle glyph of size 4\n",
    "# p.circle(date, price, fill_color='white', size=4)\n",
    "\n",
    "# # Specify the name of the output file and show the result\n",
    "# output_file('line.html')\n",
    "# show(p)"
   ]
  },
  {
   "cell_type": "markdown",
   "metadata": {},
   "source": [
    "#### Patches"
   ]
  },
  {
   "cell_type": "code",
   "execution_count": 5,
   "metadata": {},
   "outputs": [],
   "source": [
    "xs=[[1,1,2,2], [2,2,4], [2,2,3,3]]\n",
    "ys=[[2,5,5,2], [3,5,5], [2,3,4,2]]\n",
    "plot=figure()\n",
    "plot.patches(xs, ys,\n",
    "            fill_color=['red','blue','green'],\n",
    "            line_color='white')\n",
    "output_file('patches.html')\n",
    "show(plot)"
   ]
  },
  {
   "cell_type": "code",
   "execution_count": null,
   "metadata": {},
   "outputs": [],
   "source": [
    "# # Create a list of az_lons, co_lons, nm_lons and ut_lons: x\n",
    "# x = [az_lons, co_lons, nm_lons, ut_lons]\n",
    "\n",
    "# # Create a list of az_lats, co_lats, nm_lats and ut_lats: y\n",
    "# y = [az_lats, co_lats, nm_lats, ut_lats]\n",
    "\n",
    "# # Add patches to figure p with line_color=white for x and y\n",
    "# p.patches(x,y, line_color='white')\n",
    "\n",
    "# # Specify the name of the output file and show the result\n",
    "# output_file('four_corners.html')\n",
    "# show(p)"
   ]
  },
  {
   "cell_type": "markdown",
   "metadata": {},
   "source": [
    "## Data Formats"
   ]
  },
  {
   "cell_type": "code",
   "execution_count": 6,
   "metadata": {},
   "outputs": [],
   "source": [
    "# Numpy\n",
    "import numpy as np\n",
    "x = np.linspace(0,10,1000)\n",
    "y = np.sin(x) + np.random.random(1000) * 0.2\n",
    "plot = figure()\n",
    "plot.line(x,y)\n",
    "output_file('numpy.html')\n",
    "show(plot)"
   ]
  },
  {
   "cell_type": "code",
   "execution_count": null,
   "metadata": {},
   "outputs": [],
   "source": [
    "# # Import numpy as np\n",
    "# import numpy as np\n",
    "\n",
    "# # Create array using np.linspace: x\n",
    "# x = np.linspace(0,5,100)\n",
    "\n",
    "# # Create array using np.cos: y\n",
    "# y = np.cos(x)\n",
    "\n",
    "# # Add circles at x and y\n",
    "# p.circle(x,y)\n",
    "\n",
    "# # Specify the name of the output file and show the result\n",
    "# output_file('numpy.html')\n",
    "# show(p)"
   ]
  },
  {
   "cell_type": "code",
   "execution_count": 7,
   "metadata": {},
   "outputs": [],
   "source": [
    "# Pandas\n",
    "from bokeh.sampledata.iris import flowers\n",
    "plot=figure()\n",
    "plot.circle(flowers['petal_length'],\n",
    "           flowers['sepal_length'],\n",
    "           size=10)\n",
    "output_file('pandas.html')\n",
    "show(plot)"
   ]
  },
  {
   "cell_type": "code",
   "execution_count": null,
   "metadata": {},
   "outputs": [],
   "source": [
    "# # Import pandas as pd\n",
    "# import pandas as pd\n",
    "\n",
    "# # Read in the CSV file: df\n",
    "# df = pd.read_csv('auto.csv')\n",
    "\n",
    "# # Import figure from bokeh.plotting\n",
    "# from bokeh.plotting import figure\n",
    "\n",
    "# # Create the figure: p\n",
    "# p = figure(x_axis_label='HP', y_axis_label='MPG')\n",
    "\n",
    "# # Plot mpg vs hp by color\n",
    "# p.circle(df['hp'], df['mpg'], color=df['color'])\n",
    "\n",
    "# # Specify the name of the output file and show the result\n",
    "# output_file('auto-df.html')\n",
    "# show(p)\n"
   ]
  },
  {
   "cell_type": "code",
   "execution_count": 8,
   "metadata": {},
   "outputs": [],
   "source": [
    "# ColumnDataSource\n",
    "from bokeh.models import ColumnDataSource\n",
    "# ColumnDataSource(data={'x':[1,2,3],'y':[4,5,6]}) # Initiate ColumnDataSource\n",
    "source = ColumnDataSource(flowers) # DataFrame to ColumnDataSource"
   ]
  },
  {
   "cell_type": "code",
   "execution_count": 15,
   "metadata": {},
   "outputs": [
    {
     "data": {
      "text/plain": [
       "{}"
      ]
     },
     "execution_count": 15,
     "metadata": {},
     "output_type": "execute_result"
    }
   ],
   "source": [
    "# # Import the ColumnDataSource class from bokeh.plotting\n",
    "# from bokeh.plotting import ColumnDataSource\n",
    "\n",
    "# # Create a ColumnDataSource from df: source\n",
    "# source = ColumnDataSource(df)\n",
    "\n",
    "# # Add circle glyphs to the figure p\n",
    "# p.circle('Year', 'Time', size=8, source=source, color='color')\n",
    "\n",
    "# # Specify the name of the output file and show the result\n",
    "# output_file('sprint.html')\n",
    "# show(p)\n"
   ]
  },
  {
   "cell_type": "markdown",
   "metadata": {},
   "source": [
    "#### Selection Appearance"
   ]
  },
  {
   "cell_type": "code",
   "execution_count": 20,
   "metadata": {},
   "outputs": [],
   "source": [
    "plot = figure(tools='box_select, lasso_select')\n",
    "plot.circle(flowers['petal_length'],flowers['sepal_length'],\n",
    "           selection_color='red',\n",
    "           nonselection_fill_alpha=0.2,\n",
    "           nonselection_fill_color='grey')\n",
    "show(plot)"
   ]
  },
  {
   "cell_type": "markdown",
   "metadata": {},
   "source": [
    "#### Hover Appearance"
   ]
  },
  {
   "cell_type": "code",
   "execution_count": 21,
   "metadata": {},
   "outputs": [],
   "source": [
    "from bokeh.models import HoverTool\n",
    "hover = HoverTool(tooltips=None, mode='hline')\n",
    "plot = figure(tools=[hover, 'crosshair'])\n",
    "plot.circle(flowers['petal_length'],flowers['sepal_length'],\n",
    "           size=15,\n",
    "           hover_color='red')\n",
    "show(plot)"
   ]
  },
  {
   "cell_type": "markdown",
   "metadata": {},
   "source": [
    "#### Hover glyphs"
   ]
  },
  {
   "cell_type": "code",
   "execution_count": null,
   "metadata": {},
   "outputs": [],
   "source": [
    "# # import the HoverTool\n",
    "# from bokeh.models import HoverTool\n",
    "\n",
    "# # Add circle glyphs to figure p\n",
    "# p.circle(x, y, size=10,\n",
    "#          fill_color='grey', alpha=0.1, line_color=None,\n",
    "#          hover_fill_color='firebrick', hover_alpha=0.5,\n",
    "#          hover_line_color='white')\n",
    "\n",
    "# # Create a HoverTool: hover\n",
    "# hover = HoverTool(mode='vline', tooltips=None)\n",
    "\n",
    "# # Add the hover tool to the figure p\n",
    "# p.add_tools(hover)\n",
    "\n",
    "# # Specify the name of the output file and show the result\n",
    "# output_file('hover_glyph.html')\n",
    "# show(p)\n"
   ]
  },
  {
   "cell_type": "markdown",
   "metadata": {},
   "source": [
    "#### Color mapping"
   ]
  },
  {
   "cell_type": "code",
   "execution_count": 24,
   "metadata": {},
   "outputs": [],
   "source": [
    "from bokeh.models import CategoricalColorMapper\n",
    "mapper = CategoricalColorMapper(factors=['setosa', 'virginica', 'versicolor'],\n",
    "                               palette=['red', 'green', 'blue'])\n",
    "plot = figure(x_axis_label='petal_length', y_axis_label='sepal_length')\n",
    "source = ColumnDataSource(flowers)\n",
    "plot.circle('petal_length', 'sepal_length',\n",
    "           size=10, source=source,\n",
    "           color={'field':'species',\n",
    "                 'transform':mapper})\n",
    "show(plot)"
   ]
  },
  {
   "cell_type": "code",
   "execution_count": null,
   "metadata": {},
   "outputs": [],
   "source": [
    "# #Import CategoricalColorMapper from bokeh.models\n",
    "# from bokeh.models import CategoricalColorMapper\n",
    "\n",
    "# # Convert df to a ColumnDataSource: source\n",
    "# source = ColumnDataSource(df)\n",
    "\n",
    "# # Make a CategoricalColorMapper object: color_mapper\n",
    "# color_mapper = CategoricalColorMapper(factors=['Europe', 'Asia', 'US'],\n",
    "#                                       palette=['red', 'green', 'blue'])\n",
    "\n",
    "# # Add a circle glyph to the figure p\n",
    "# p.circle('weight', 'mpg', source=source,\n",
    "#             color=dict(field='origin', transform=color_mapper),\n",
    "#             legend='origin')\n",
    "\n",
    "# # Specify the name of the output file and show the result\n",
    "# output_file('colormap.html')\n",
    "# show(p)\n"
   ]
  },
  {
   "cell_type": "markdown",
   "metadata": {},
   "source": [
    "#### Selection & Non-selection glyphs"
   ]
  },
  {
   "cell_type": "code",
   "execution_count": null,
   "metadata": {},
   "outputs": [],
   "source": [
    "# # Create a figure with the \"box_select\" tool: p\n",
    "# p = figure(x_axis_label='Year',y_axis_label='Time',tools='box_select')\n",
    "\n",
    "# # Add circle glyphs to the figure p with the selected and non-selected properties\n",
    "# p.circle('Year','Time',selection_color='red', nonselection_alpha=0.1, source=source)\n",
    "\n",
    "# # Specify the name of the output file and show the result\n",
    "# output_file('selection_glyph.html')\n",
    "# show(p)\n"
   ]
  },
  {
   "cell_type": "markdown",
   "metadata": {},
   "source": [
    "** DataCamp Free sessions completed **\n",
    "\n",
    "# Medium Article (to be continued)\n",
    "\n",
    "https://towardsdatascience.com/data-visualization-with-bokeh-in-python-part-one-getting-started-a11655a467d4"
   ]
  },
  {
   "cell_type": "code",
   "execution_count": 15,
   "metadata": {},
   "outputs": [],
   "source": [
    "# bokeh basics\n",
    "from bokeh.plotting import figure\n",
    "from bokeh.io import show, output_file\n",
    "\n",
    "# Create a blank figure with labels\n",
    "p = figure(plot_width = 600, plot_height = 600, \n",
    "           title = 'Example Glyphs',\n",
    "           x_axis_label = 'X', y_axis_label = 'Y')\n",
    "\n",
    "# Example data\n",
    "squares_x = [1, 3, 4, 5, 8]\n",
    "squares_y = [8, 7, 3, 1, 10]\n",
    "circles_x = [9, 12, 4, 3, 15]\n",
    "circles_y = [8, 4, 11, 6, 10]\n",
    "\n",
    "# Add squares glyph\n",
    "p.square(squares_x, squares_y, size = 12, color = 'navy', alpha = 0.6)\n",
    "# Add circle glyph\n",
    "p.circle(circles_x, circles_y, size = 12, color = 'red')\n",
    "\n",
    "# Set to output the plot in the notebook\n",
    "output_file('1.html')\n",
    "# Show the plot\n",
    "show(p)"
   ]
  },
  {
   "cell_type": "code",
   "execution_count": 11,
   "metadata": {},
   "outputs": [
    {
     "name": "stderr",
     "output_type": "stream",
     "text": [
      "/anaconda/lib/python3.6/site-packages/IPython/core/interactiveshell.py:2717: DtypeWarning: Columns (4,6,7,8) have mixed types. Specify dtype option on import or set low_memory=False.\n",
      "  interactivity=interactivity, compiler=compiler, result=result)\n",
      "/anaconda/lib/python3.6/site-packages/numpy/lib/arraysetops.py:463: FutureWarning: elementwise comparison failed; returning scalar instead, but in the future will perform elementwise comparison\n",
      "  mask |= (ar1 == a)\n"
     ]
    },
    {
     "name": "stdout",
     "output_type": "stream",
     "text": [
      "Index(['YEAR', 'MONTH', 'DAY', 'DAY_OF_WEEK', 'AIRLINE', 'TAIL_NUMBER',\n",
      "       'ORIGIN_AIRPORT', 'DESTINATION_AIRPORT', 'SCHEDULED_DEPARTURE',\n",
      "       'DEPARTURE_TIME', 'DEPARTURE_DELAY', 'TAXI_OUT', 'WHEELS_OFF',\n",
      "       'SCHEDULED_TIME', 'ELAPSED_TIME', 'AIR_TIME', 'DISTANCE', 'WHEELS_ON',\n",
      "       'TAXI_IN', 'SCHEDULED_ARRIVAL', 'ARRIVAL_TIME', 'ARRIVAL_DELAY',\n",
      "       'DIVERTED', 'CANCELLED', 'CANCELLATION_REASON', 'AIR_SYSTEM_DELAY',\n",
      "       'SECURITY_DELAY', 'AIRLINE_DELAY', 'LATE_AIRCRAFT_DELAY',\n",
      "       'WEATHER_DELAY'],\n",
      "      dtype='object')\n"
     ]
    }
   ],
   "source": [
    "import pandas as pd\n",
    "# Read the data from a csv into a dataframe\n",
    "flights = pd.read_csv('/Users/saurabh/Bokeh/data/flights.csv', index_col='FLIGHT_NUMBER')\n",
    "print(flights.columns)\n",
    "# Summary stats for the column of interest\n",
    "# flights['arr_delay'].describe()"
   ]
  },
  {
   "cell_type": "code",
   "execution_count": 12,
   "metadata": {},
   "outputs": [
    {
     "data": {
      "text/plain": [
       "count    46813.000000\n",
       "mean        13.568475\n",
       "std         43.314204\n",
       "min        -54.000000\n",
       "25%         -9.000000\n",
       "50%          2.000000\n",
       "75%         22.000000\n",
       "max       1384.000000\n",
       "Name: ARRIVAL_DELAY, dtype: float64"
      ]
     },
     "execution_count": 12,
     "metadata": {},
     "output_type": "execute_result"
    }
   ],
   "source": [
    "# Summary stats for the column of interest\n",
    "flights['ARRIVAL_DELAY'].describe()"
   ]
  },
  {
   "cell_type": "code",
   "execution_count": 13,
   "metadata": {},
   "outputs": [
    {
     "name": "stderr",
     "output_type": "stream",
     "text": [
      "/anaconda/lib/python3.6/site-packages/numpy/lib/function_base.py:748: RuntimeWarning: invalid value encountered in greater_equal\n",
      "  keep = (tmp_a >= mn)\n",
      "/anaconda/lib/python3.6/site-packages/numpy/lib/function_base.py:749: RuntimeWarning: invalid value encountered in less_equal\n",
      "  keep &= (tmp_a <= mx)\n"
     ]
    },
    {
     "data": {
      "text/html": [
       "<div>\n",
       "<style scoped>\n",
       "    .dataframe tbody tr th:only-of-type {\n",
       "        vertical-align: middle;\n",
       "    }\n",
       "\n",
       "    .dataframe tbody tr th {\n",
       "        vertical-align: top;\n",
       "    }\n",
       "\n",
       "    .dataframe thead th {\n",
       "        text-align: right;\n",
       "    }\n",
       "</style>\n",
       "<table border=\"1\" class=\"dataframe\">\n",
       "  <thead>\n",
       "    <tr style=\"text-align: right;\">\n",
       "      <th></th>\n",
       "      <th>ARRIVAL_DELAY</th>\n",
       "      <th>left</th>\n",
       "      <th>right</th>\n",
       "    </tr>\n",
       "  </thead>\n",
       "  <tbody>\n",
       "    <tr>\n",
       "      <th>30</th>\n",
       "      <td>227</td>\n",
       "      <td>90.0</td>\n",
       "      <td>95.0</td>\n",
       "    </tr>\n",
       "    <tr>\n",
       "      <th>9</th>\n",
       "      <td>4497</td>\n",
       "      <td>-15.0</td>\n",
       "      <td>-10.0</td>\n",
       "    </tr>\n",
       "    <tr>\n",
       "      <th>33</th>\n",
       "      <td>139</td>\n",
       "      <td>105.0</td>\n",
       "      <td>110.0</td>\n",
       "    </tr>\n",
       "  </tbody>\n",
       "</table>\n",
       "</div>"
      ],
      "text/plain": [
       "    ARRIVAL_DELAY   left  right\n",
       "30            227   90.0   95.0\n",
       "9            4497  -15.0  -10.0\n",
       "33            139  105.0  110.0"
      ]
     },
     "execution_count": 13,
     "metadata": {},
     "output_type": "execute_result"
    }
   ],
   "source": [
    "import numpy as np\n",
    "\"\"\"Bins will be five minutes in width, so the number of bins \n",
    "is (length of interval / 5). Limit delays to [-60, +120] minutes using the range.\"\"\"\n",
    "arr_hist, edges = np.histogram(flights['ARRIVAL_DELAY'], \n",
    "                               bins = int(180/5), \n",
    "                               range = [-60, 120])\n",
    "# Put the information in a dataframe\n",
    "delays = pd.DataFrame({'ARRIVAL_DELAY': arr_hist, \n",
    "                       'left': edges[:-1], \n",
    "                       'right': edges[1:]})\n",
    "delays.sample(3)"
   ]
  },
  {
   "cell_type": "markdown",
   "metadata": {},
   "source": [
    "#### Normal Histogram"
   ]
  },
  {
   "cell_type": "code",
   "execution_count": 28,
   "metadata": {},
   "outputs": [],
   "source": [
    "# Create the blank plot\n",
    "p = figure(plot_height = 600, plot_width = 600, \n",
    "           title = 'Histogram of Arrival Delays',\n",
    "          x_axis_label = 'Delay (min)]', \n",
    "           y_axis_label = 'Number of Flights')\n",
    "\n",
    "# Add a quad glyph\n",
    "p.quad(bottom=0, top=delays['ARRIVAL_DELAY'], \n",
    "       left=delays['left'], right=delays['right'], \n",
    "       fill_color='red', line_color='black')\n",
    "\n",
    "# Show the plot\n",
    "show(p)"
   ]
  },
  {
   "cell_type": "markdown",
   "metadata": {},
   "source": [
    "#### Histogram with tooltips"
   ]
  },
  {
   "cell_type": "code",
   "execution_count": 27,
   "metadata": {},
   "outputs": [],
   "source": [
    "# Import the ColumnDataSource class\n",
    "from bokeh.models import ColumnDataSource\n",
    "# Convert dataframe to column data source\n",
    "src = ColumnDataSource(delays)\n",
    "src.data.keys()\n",
    "# Add a quad glyph with source this time\n",
    "p.quad(source = src, bottom=0, top='ARRIVAL_DELAY', \n",
    "       left='left', right='right', \n",
    "       fill_color='red', line_color='black')\n",
    "from bokeh.models import HoverTool\n",
    "# Hover tool referring to our own data field using @ and\n",
    "# a position on the graph using $\n",
    "h = HoverTool(tooltips = [('Delay Interval Left ', '@left'),\n",
    "                          ('(x,y)', '($x, $y)')])\n",
    "# Add a column showing the extent of each interval\n",
    "delays['f_interval'] = ['%d to %d minutes' % (left, right) for left, right in zip(delays['left'], delays['right'])]\n",
    "delays.sample(3)\n",
    "# p = style(p)\n",
    "p.add_tools(h)\n",
    "show(p)"
   ]
  },
  {
   "cell_type": "markdown",
   "metadata": {},
   "source": [
    "#### Histogram with Hover tools"
   ]
  },
  {
   "cell_type": "code",
   "execution_count": 33,
   "metadata": {},
   "outputs": [],
   "source": [
    "# Create the blank plot\n",
    "p = figure(plot_height = 600, plot_width = 600, \n",
    "           title = 'Histogram of Arrival Delays',\n",
    "          x_axis_label = 'Delay (min)]', \n",
    "           y_axis_label = 'Number of Flights')\n",
    "\n",
    "# Add a quad glyph with source this time\n",
    "p.quad(bottom=0, top='ARRIVAL_DELAY', left='left', right='right', source=src,\n",
    "       fill_color='red', line_color='black', fill_alpha = 0.75,\n",
    "       hover_fill_alpha = 1.0, hover_fill_color = 'navy')\n",
    "\n",
    "# Add a hover tool referring to the formatted columns\n",
    "hover = HoverTool(tooltips = [('Delay', '@f_interval'),\n",
    "                             ('Num of Flights', '@ARRIVAL_DELAY')])\n",
    "\n",
    "# Style the plot\n",
    "# p = style(p)\n",
    "\n",
    "# Add the hover tool to the graph\n",
    "p.add_tools(hover)\n",
    "\n",
    "# Show the plot\n",
    "show(p)"
   ]
  },
  {
   "cell_type": "markdown",
   "metadata": {},
   "source": [
    "** Medium Article completed **\n",
    "\n",
    "# AnalyticsVidhya (to be continued)\n",
    "\n",
    "https://www.analyticsvidhya.com/blog/2015/08/interactive-data-visualization-library-python-bokeh/"
   ]
  },
  {
   "cell_type": "code",
   "execution_count": null,
   "metadata": {},
   "outputs": [],
   "source": []
  },
  {
   "cell_type": "code",
   "execution_count": null,
   "metadata": {},
   "outputs": [],
   "source": []
  },
  {
   "cell_type": "markdown",
   "metadata": {},
   "source": [
    "#### References\n",
    "\n",
    "https://sadanand-singh.github.io/posts/interactivedatavis/\n",
    "\n",
    "https://www.kaggle.com/kanncaa1/visualization-bokeh-tutorial-part-1"
   ]
  },
  {
   "cell_type": "code",
   "execution_count": null,
   "metadata": {},
   "outputs": [],
   "source": []
  }
 ],
 "metadata": {
  "kernelspec": {
   "display_name": "Python 3",
   "language": "python",
   "name": "python3"
  },
  "language_info": {
   "codemirror_mode": {
    "name": "ipython",
    "version": 3
   },
   "file_extension": ".py",
   "mimetype": "text/x-python",
   "name": "python",
   "nbconvert_exporter": "python",
   "pygments_lexer": "ipython3",
   "version": "3.6.1"
  }
 },
 "nbformat": 4,
 "nbformat_minor": 2
}
